{
 "cells": [
  {
   "cell_type": "code",
   "execution_count": 1,
   "metadata": {},
   "outputs": [],
   "source": [
    "from sentence import Sentence\n",
    "from twogram import TwoGrams\n",
    "import pandas as pd\n",
    "from time import time\n",
    "\n",
    "def generate_best(sentence_generator, language_model, num_sentence=20, return_num=1):\n",
    "    if not isinstance(sentence_generator, Sentence):\n",
    "        raise TypeError()\n",
    "    if not isinstance(language_model, TwoGrams):\n",
    "        raise TypeError()\n",
    "\n",
    "    stn = sentence_generator\n",
    "    lm = language_model\n",
    "    score = []\n",
    "    dict_stn = {}\n",
    "    for i in range(num_sentence):\n",
    "        sent = stn.generate('sentence')\n",
    "        p, ppl = lm.prob_sentence(sent)\n",
    "        score.append(ppl)\n",
    "        dict_stn[ppl] = sent\n",
    "    score.sort(reverse=True)\n",
    "    return '\\n'.join(dict_stn[item] for item in score[:return_num])"
   ]
  },
  {
   "cell_type": "code",
   "execution_count": 28,
   "metadata": {},
   "outputs": [],
   "source": [
    "# 句子生成器\n",
    "gram = '''\n",
    "    sentence = evaluate | describe\n",
    "    evaluate = article* object adv* adj\n",
    "    article* = article | null\n",
    "    adv* = null | adv adv* | adv\n",
    "    describe = article* object adv* verb object*\n",
    "    object* = null | object\n",
    "    '''\n",
    "\n",
    "corpus = '''\n",
    "    article = 这 这个 这部\n",
    "    object = 男配角 女配角 观众 导演 冯小刚 成龙 吴京 斯坦森 李达康 徐晓冬 吴刚 甄子丹 张翰 彭于晏 电影 影片 片子 片儿 男主 男主角 男主角儿 女主 女主角 女主角儿  \n",
    "    adv = 太 十分 相当 相当的 真是 真的是 很 非常 非常非常 特别地 相当地 令人 让人 竟然 居然\n",
    "    adj = 精彩 吸引人 绝了 值得一看 好看 引人入胜 感人 动容  可怜 愤怒 气人 可恶 垃圾 难看 不真实 不现实 帅 崇拜 美丽 漂亮 可恨 惋惜 牛 厉害 脑残 恐怖 辛苦  水了 差 不咋地 刮目相看 赞 赞了\n",
    "    verb = 出场 上场 出现 消失 牺牲 杀了 打败了 击败 击败了 爱上了 喜欢上 看上了 相中了 憎恨 不喜欢 仇恨 复仇 \n",
    "    '''"
   ]
  },
  {
   "cell_type": "code",
   "execution_count": 24,
   "metadata": {},
   "outputs": [
    {
     "name": "stdout",
     "output_type": "stream",
     "text": [
      "这部徐晓冬打败了彭于晏\n"
     ]
    }
   ],
   "source": [
    "# 随机生成句子\n",
    "snt_grt = Sentence()\n",
    "snt_grt.set_corpus(corpus)\n",
    "snt_grt.set_grammar(gram)\n",
    "sentece_eg = snt_grt.generate('sentence')\n",
    "print(sentece_eg)"
   ]
  },
  {
   "cell_type": "code",
   "execution_count": 11,
   "metadata": {},
   "outputs": [],
   "source": [
    "import time\n"
   ]
  },
  {
   "cell_type": "code",
   "execution_count": 13,
   "metadata": {},
   "outputs": [
    {
     "name": "stdout",
     "output_type": "stream",
     "text": [
      "训练用时：74.4375秒\n",
      "(p,ppl)导演太让人喜欢了=(2.373891818762578e-29, 12280.607978468459)\n",
      "(p,ppl)高晓松是土肥圆？=(1.8131766599278842e-37, 1329209.122843161)\n"
     ]
    }
   ],
   "source": [
    " # 2元语法模型\n",
    "t1 = time.process_time()\n",
    "data_df = pd.read_csv('input/movie_comments.csv')\n",
    "model = TwoGrams()\n",
    "model.train(data_df.loc[:, 'comment'])\n",
    "t2 = time.process_time()\n",
    "print('训练用时：{}秒'.format(t2-t1))\n",
    "stn = '导演太让人喜欢了'\n",
    "print('(p,ppl){}={}'.format(stn, model.prob_sentence(stn)))\n",
    "stn1 = '高晓松是土肥圆？'\n",
    "print('(p,ppl){}={}'.format(stn1, model.prob_sentence(stn1)))"
   ]
  },
  {
   "cell_type": "code",
   "execution_count": 29,
   "metadata": {},
   "outputs": [
    {
     "name": "stdout",
     "output_type": "stream",
     "text": [
      "徐晓冬令人牛\n",
      "李达康复仇女主\n",
      "李达康帅\n",
      "李达康帅\n",
      "李达康帅\n",
      "李达康帅\n",
      "李达康帅\n",
      "这个李达康复仇男主\n",
      "李达康复仇\n",
      "这徐晓冬令人帅\n",
      "这李达康复仇女主\n",
      "徐晓冬令人绝了\n",
      "这部李达康赞\n",
      "徐晓冬憎恨吴刚\n",
      "李达康气人\n",
      "徐晓冬特别地差\n",
      "李达康复仇男主角\n",
      "这李达康帅\n",
      "吴刚上场李达康\n",
      "徐晓冬令人愤怒\n",
      "徐晓冬上场男配角\n",
      "这女主牛\n",
      "这斯坦森崇拜\n",
      "吴刚气人\n",
      "这斯坦森赞了\n",
      "这斯坦森赞了\n",
      "这斯坦森赞了\n",
      "这斯坦森十分让人真是惋惜\n",
      "这斯坦森憎恨女主角\n",
      "这部徐晓冬令人击败\n",
      "斯坦森帅\n",
      "斯坦森帅\n",
      "斯坦森帅\n",
      "斯坦森帅\n",
      "斯坦森帅\n",
      "斯坦森帅\n",
      "斯坦森帅\n",
      "斯坦森帅\n",
      "斯坦森帅\n",
      "斯坦森帅\n",
      "斯坦森帅\n",
      "斯坦森帅\n",
      "斯坦森帅\n",
      "斯坦森帅\n",
      "斯坦森帅\n",
      "斯坦森帅\n",
      "斯坦森帅\n",
      "斯坦森帅\n",
      "斯坦森帅\n",
      "斯坦森帅\n",
      "斯坦森帅\n",
      "斯坦森帅\n",
      "斯坦森帅\n",
      "斯坦森帅\n",
      "斯坦森帅\n",
      "斯坦森帅\n",
      "斯坦森帅\n",
      "斯坦森帅\n",
      "这女主相当地相中了徐晓冬\n",
      "徐晓冬令人精彩\n",
      "徐晓冬上场\n",
      "徐晓冬上场\n",
      "徐晓冬憎恨\n",
      "李达康仇恨李达康\n",
      "片儿击败徐晓冬\n",
      "彭于晏牛\n",
      "彭于晏牛\n",
      "这斯坦森让人帅\n",
      "这女主太惋惜\n",
      "这斯坦森真是消失吴刚\n",
      "徐晓冬击败\n",
      "徐晓冬击败\n",
      "徐晓冬击败\n",
      "徐晓冬击败\n",
      "男配角太爱上了吴刚\n",
      "这部李达康复仇观众\n",
      "这部徐晓冬特别地差\n",
      "徐晓冬可恶\n",
      "徐晓冬可恶\n",
      "吴刚喜欢上斯坦森\n",
      "这部徐晓冬牺牲徐晓冬\n",
      "这李达康复仇女主角\n",
      "徐晓冬出现吴刚\n",
      "张翰真是太憎恨吴刚\n",
      "徐晓冬令人太相当地不真实\n",
      "这吴刚上场徐晓冬\n",
      "吴刚相当相当地牛\n",
      "吴刚相当地赞\n",
      "这女主十分上场张翰\n",
      "女配角上场张翰\n",
      "徐晓冬可恨\n",
      "徐晓冬可恨\n",
      "徐晓冬刮目相看\n",
      "徐晓冬刮目相看\n",
      "这斯坦森太仇恨男配角\n",
      "这个张翰憎恨徐晓冬\n",
      "徐晓冬相中了吴刚\n",
      "徐晓冬崇拜\n",
      "这部徐晓冬居然相当地差\n",
      "这斯坦森太憎恨\n"
     ]
    }
   ],
   "source": [
    "print(generate_best(snt_grt, model, 10000, 100))"
   ]
  }
 ],
 "metadata": {
  "kernelspec": {
   "display_name": "Python 3",
   "language": "python",
   "name": "python3"
  },
  "language_info": {
   "codemirror_mode": {
    "name": "ipython",
    "version": 3
   },
   "file_extension": ".py",
   "mimetype": "text/x-python",
   "name": "python",
   "nbconvert_exporter": "python",
   "pygments_lexer": "ipython3",
   "version": "3.7.1"
  },
  "toc": {
   "base_numbering": 1,
   "nav_menu": {},
   "number_sections": true,
   "sideBar": true,
   "skip_h1_title": false,
   "title_cell": "Table of Contents",
   "title_sidebar": "Contents",
   "toc_cell": false,
   "toc_position": {},
   "toc_section_display": true,
   "toc_window_display": false
  }
 },
 "nbformat": 4,
 "nbformat_minor": 4
}
